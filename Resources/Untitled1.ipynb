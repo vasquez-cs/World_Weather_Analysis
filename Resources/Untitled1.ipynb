{
 "cells": [
  {
   "cell_type": "code",
   "execution_count": 3,
   "id": "a5e45752",
   "metadata": {},
   "outputs": [],
   "source": [
    "# Dependecies\n",
    "import requests\n",
    "import json\n",
    "\n",
    "from config import g_api_key "
   ]
  },
  {
   "cell_type": "code",
   "execution_count": 14,
   "id": "17a9650b",
   "metadata": {},
   "outputs": [
    {
     "name": "stdout",
     "output_type": "stream",
     "text": [
      "<Response [200]>\n",
      "{'results': [{'address_components': [{'long_name': 'Seattle', 'short_name': 'Seattle', 'types': ['locality', 'political']}, {'long_name': 'King County', 'short_name': 'King County', 'types': ['administrative_area_level_2', 'political']}, {'long_name': 'Washington', 'short_name': 'WA', 'types': ['administrative_area_level_1', 'political']}, {'long_name': 'United States', 'short_name': 'US', 'types': ['country', 'political']}], 'formatted_address': 'Seattle, WA, USA', 'geometry': {'bounds': {'northeast': {'lat': 47.734145, 'lng': -122.2244331}, 'southwest': {'lat': 47.4919119, 'lng': -122.4596959}}, 'location': {'lat': 47.6062095, 'lng': -122.3320708}, 'location_type': 'APPROXIMATE', 'viewport': {'northeast': {'lat': 47.734145, 'lng': -122.2244331}, 'southwest': {'lat': 47.4919119, 'lng': -122.4596959}}}, 'place_id': 'ChIJVTPokywQkFQRmtVEaUZlJRA', 'types': ['locality', 'political']}], 'status': 'OK'}\n",
      "lat47.6062095\n",
      "long-122.3320708\n"
     ]
    }
   ],
   "source": [
    "#URL for GET requests to retrieve vehicle data\n",
    "\n",
    "target_city = \"Seattle, Washington\"\n",
    "\n",
    "params = {\"address\": target_city , \"key\":g_api_key }\n",
    "\n",
    "# Build URL using the Google Maps API\n",
    "base_url = \"https://maps.googleapis.com/maps/api/geocode/json\"\n",
    "\n",
    "# Run request\n",
    "response = requests.get(base_url, params = params)\n",
    "\n",
    "# Convert to JSON\n",
    "seattle_geo = response.json()\n",
    "\n",
    "print(response)\n",
    "print(seattle_geo)\n",
    "\n",
    "# Extract lat/lng\n",
    "lat =  seattle_geo['results'][0]['geometry']['location']['lat']\n",
    "long = seattle_geo['results'][0]['geometry']['location']['lng']\n",
    "\n",
    "# Print results\n",
    "print(\"lat\" + str(lat) )\n",
    "print(\"long\"+ str(long) )"
   ]
  },
  {
   "cell_type": "code",
   "execution_count": null,
   "id": "9e3c89e7",
   "metadata": {},
   "outputs": [],
   "source": []
  },
  {
   "cell_type": "code",
   "execution_count": null,
   "id": "fc125b24",
   "metadata": {},
   "outputs": [],
   "source": [
    "geo_data = requests.get(target_url).json()\n",
    "\n",
    "print(geo_data)"
   ]
  },
  {
   "cell_type": "code",
   "execution_count": null,
   "id": "3f98ff20",
   "metadata": {},
   "outputs": [],
   "source": []
  },
  {
   "cell_type": "code",
   "execution_count": null,
   "id": "8d4f7262",
   "metadata": {},
   "outputs": [],
   "source": []
  },
  {
   "cell_type": "code",
   "execution_count": null,
   "id": "3593ed05",
   "metadata": {},
   "outputs": [],
   "source": []
  },
  {
   "cell_type": "code",
   "execution_count": null,
   "id": "d064389f",
   "metadata": {},
   "outputs": [],
   "source": []
  },
  {
   "cell_type": "code",
   "execution_count": null,
   "id": "3435cef6",
   "metadata": {},
   "outputs": [],
   "source": []
  }
 ],
 "metadata": {
  "kernelspec": {
   "display_name": "PythonData",
   "language": "python",
   "name": "pythondata"
  },
  "language_info": {
   "codemirror_mode": {
    "name": "ipython",
    "version": 3
   },
   "file_extension": ".py",
   "mimetype": "text/x-python",
   "name": "python",
   "nbconvert_exporter": "python",
   "pygments_lexer": "ipython3",
   "version": "3.7.13"
  }
 },
 "nbformat": 4,
 "nbformat_minor": 5
}
