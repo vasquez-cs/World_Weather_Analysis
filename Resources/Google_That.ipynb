{
 "cells": [
  {
   "cell_type": "code",
   "execution_count": 1,
   "metadata": {},
   "outputs": [],
   "source": [
    "# Create code to answer each of the following questions.\n",
    "# Hint: You will need multiple target URLs and multiple API requests.\n",
    "\n",
    "# Dependencies\n",
    "import requests\n",
    "import json\n",
    "\n",
    "# Retrieve Google API key from config.py\n",
    "from config import g_api_key"
   ]
  },
  {
   "cell_type": "code",
   "execution_count": 3,
   "metadata": {},
   "outputs": [
    {
     "name": "stdout",
     "output_type": "stream",
     "text": [
      "<Response [200]>\n",
      "{'results': [{'address_components': [{'long_name': 'Seattle', 'short_name': 'Seattle', 'types': ['locality', 'political']}, {'long_name': 'King County', 'short_name': 'King County', 'types': ['administrative_area_level_2', 'political']}, {'long_name': 'Washington', 'short_name': 'WA', 'types': ['administrative_area_level_1', 'political']}, {'long_name': 'United States', 'short_name': 'US', 'types': ['country', 'political']}], 'formatted_address': 'Seattle, WA, USA', 'geometry': {'bounds': {'northeast': {'lat': 47.734145, 'lng': -122.2244331}, 'southwest': {'lat': 47.4919119, 'lng': -122.4596959}}, 'location': {'lat': 47.6062095, 'lng': -122.3320708}, 'location_type': 'APPROXIMATE', 'viewport': {'northeast': {'lat': 47.734145, 'lng': -122.2244331}, 'southwest': {'lat': 47.4919119, 'lng': -122.4596959}}}, 'place_id': 'ChIJVTPokywQkFQRmtVEaUZlJRA', 'types': ['locality', 'political']}], 'status': 'OK'}\n",
      "lat47.6062095\n",
      "long-122.3320708\n"
     ]
    }
   ],
   "source": [
    "# 1. What are the geocoordinates (latitude/longitude) of Seattle, Washington?\n",
    "\n",
    "target_city = \"Seattle, Washington\"\n",
    "\n",
    "params = {\"address\": target_city , \"key\":g_api_key }\n",
    "\n",
    "# Build URL using the Google Maps API\n",
    "base_url = \"https://maps.googleapis.com/maps/api/geocode/json\"\n",
    "\n",
    "# Run request\n",
    "response = requests.get(base_url, params = params)\n",
    "\n",
    "# Convert to JSON\n",
    "seattle_geo = response.json()\n",
    "\n",
    "print(response)\n",
    "print(seattle_geo)\n",
    "\n",
    "# Extract lat/lng\n",
    "lat =  seattle_geo['results'][0]['geometry']['location']['lat']\n",
    "long = seattle_geo['results'][0]['geometry']['location']['lng']\n",
    "\n",
    "# Print results\n",
    "print(\"lat\" + str(lat) )\n",
    "print(\"long\"+ str(long) )"
   ]
  },
  {
   "cell_type": "code",
   "execution_count": 5,
   "metadata": {},
   "outputs": [
    {
     "name": "stdout",
     "output_type": "stream",
     "text": [
      "<Response [200]>\n",
      "{'results': [{'address_components': [{'long_name': '1600', 'short_name': '1600', 'types': ['street_number']}, {'long_name': 'Pennsylvania Avenue Northwest', 'short_name': 'Pennsylvania Avenue NW', 'types': ['route']}, {'long_name': 'Northwest Washington', 'short_name': 'Northwest Washington', 'types': ['neighborhood', 'political']}, {'long_name': 'Washington', 'short_name': 'Washington', 'types': ['locality', 'political']}, {'long_name': 'District of Columbia', 'short_name': 'DC', 'types': ['administrative_area_level_1', 'political']}, {'long_name': 'United States', 'short_name': 'US', 'types': ['country', 'political']}, {'long_name': '20500', 'short_name': '20500', 'types': ['postal_code']}], 'formatted_address': '1600 Pennsylvania Avenue NW, Washington, DC 20500, USA', 'geometry': {'location': {'lat': 38.8976763, 'lng': -77.0365298}, 'location_type': 'ROOFTOP', 'viewport': {'northeast': {'lat': 38.9003021302915, 'lng': -77.0352025197085}, 'southwest': {'lat': 38.8976041697085, 'lng': -77.03790048029151}}}, 'partial_match': True, 'place_id': 'ChIJ37HL3ry3t4kRv3YLbdhpWXE', 'plus_code': {'compound_code': 'VXX7+39 Washington, DC', 'global_code': '87C4VXX7+39'}, 'types': ['establishment', 'point_of_interest', 'tourist_attraction']}], 'status': 'OK'}\n",
      "lat38.8976763\n",
      "long-77.0365298\n"
     ]
    }
   ],
   "source": [
    "# 2. What are the geocoordinates (latitude/longitude) of The White House?\n",
    "# update params dict\n",
    "\n",
    "target_city = \"The white house\"\n",
    "\n",
    "params = {\"address\": target_city , \"key\":g_api_key }\n",
    "\n",
    "# Build URL using the Google Maps API\n",
    "base_url = \"https://maps.googleapis.com/maps/api/geocode/json\"\n",
    "\n",
    "# Run request\n",
    "response = requests.get(base_url, params = params)\n",
    "\n",
    "# Convert to JSON\n",
    "dc_geo = response.json()\n",
    "\n",
    "print(response)\n",
    "print(dc_geo)\n",
    "\n",
    "# Extract lat/lng\n",
    "lat =  dc_geo['results'][0]['geometry']['location']['lat']\n",
    "long = dc_geo['results'][0]['geometry']['location']['lng']\n",
    "\n",
    "# Print results\n",
    "print(\"lat\" + str(lat) )\n",
    "print(\"long\"+ str(long) )\n",
    "\n",
    "# Run request\n",
    "\n",
    "\n",
    "# print the response URL, avoid doing for public GitHub repos in order to avoid exposing key\n",
    "# print(response.url)\n",
    "\n",
    "\n",
    "# Extract lat/lng\n",
    "\n",
    "\n",
    "# Print results\n"
   ]
  },
  {
   "cell_type": "code",
   "execution_count": 16,
   "metadata": {},
   "outputs": [
    {
     "ename": "IndexError",
     "evalue": "list index out of range",
     "output_type": "error",
     "traceback": [
      "\u001b[1;31m---------------------------------------------------------------------------\u001b[0m",
      "\u001b[1;31mIndexError\u001b[0m                                Traceback (most recent call last)",
      "\u001b[1;32m~\\AppData\\Local\\Temp\\ipykernel_2780\\2344811566.py\u001b[0m in \u001b[0;36m<module>\u001b[1;34m\u001b[0m\n\u001b[0;32m     22\u001b[0m \u001b[1;33m\u001b[0m\u001b[0m\n\u001b[0;32m     23\u001b[0m \u001b[1;31m# Extract lat/lng\u001b[0m\u001b[1;33m\u001b[0m\u001b[1;33m\u001b[0m\u001b[1;33m\u001b[0m\u001b[0m\n\u001b[1;32m---> 24\u001b[1;33m \u001b[0mprint\u001b[0m\u001b[1;33m(\u001b[0m\u001b[0mlat\u001b[0m \u001b[1;33m=\u001b[0m  \u001b[0mseattle_bikes\u001b[0m\u001b[1;33m[\u001b[0m\u001b[1;34m'results'\u001b[0m\u001b[1;33m]\u001b[0m\u001b[1;33m[\u001b[0m\u001b[1;36m0\u001b[0m\u001b[1;33m]\u001b[0m\u001b[1;33m[\u001b[0m\u001b[1;34m\"name\"\u001b[0m\u001b[1;33m]\u001b[0m\u001b[1;33m)\u001b[0m\u001b[1;33m\u001b[0m\u001b[1;33m\u001b[0m\u001b[0m\n\u001b[0m\u001b[0;32m     25\u001b[0m \u001b[0mprint\u001b[0m\u001b[1;33m(\u001b[0m\u001b[0mlong\u001b[0m \u001b[1;33m=\u001b[0m \u001b[0mseattle_bikes\u001b[0m\u001b[1;33m[\u001b[0m\u001b[1;34m'results'\u001b[0m\u001b[1;33m]\u001b[0m\u001b[1;33m[\u001b[0m\u001b[1;36m0\u001b[0m\u001b[1;33m]\u001b[0m\u001b[1;33m[\u001b[0m\u001b[1;34m'vicinity'\u001b[0m\u001b[1;33m]\u001b[0m\u001b[1;33m)\u001b[0m\u001b[1;33m\u001b[0m\u001b[1;33m\u001b[0m\u001b[0m\n\u001b[0;32m     26\u001b[0m \u001b[1;33m\u001b[0m\u001b[0m\n",
      "\u001b[1;31mIndexError\u001b[0m: list index out of range"
     ]
    }
   ],
   "source": [
    "# 3. Find the name and address of a bike store in Seattle, Washington.\n",
    "#    Hint: See https://developers.google.com/places/web-service/supported_types\n",
    "\n",
    "target_type = \"bike_store\"\n",
    "seattle_coords = \"47.4919119, -122.4596959\"\n",
    "radius = 8000\n",
    "\n",
    "params = {\n",
    "    \"location\": seattle_coords,\n",
    "    \"types\": target_type,\n",
    "    \"radius\":radius, \n",
    "    \"key\": g_api_key}\n",
    "\n",
    "# Build URL using the Google Maps API\n",
    "base_url = \"https://maps.googleapis.com/maps/api/geocode/json\"\n",
    "\n",
    "# Run request\n",
    "response = requests.get(base_url, params)\n",
    "\n",
    "# Convert to JSON\n",
    "seattle_bikes = response.json()\n",
    "\n",
    "# Extract lat/lng\n",
    "print(lat =  seattle_bikes['results'][0][\"name\"])\n",
    "print(long = seattle_bikes['results'][0]['vicinity'])\n",
    "\n",
    "\n",
    "\n",
    "# rewrite params dict\n",
    "\n",
    "# Build URL using the Google Maps API\n",
    "\n",
    "# Run request\n",
    "\n",
    "# Convert to JSON\n",
    "\n",
    "# Print the name and address of the first bike shop to appear\n"
   ]
  },
  {
   "cell_type": "code",
   "execution_count": null,
   "metadata": {},
   "outputs": [],
   "source": [
    "# 4. Find a balloon store near the White House.\n",
    "\n",
    "# redefine params\n",
    "\n",
    "\n",
    "# Build URL using the Google Maps API\n",
    "\n",
    "\n",
    "# Run request\n",
    "\n",
    "\n",
    "\n",
    "\n",
    "# Print the name and address of the first balloon shop that appears\n"
   ]
  },
  {
   "cell_type": "code",
   "execution_count": null,
   "metadata": {},
   "outputs": [],
   "source": [
    "# 5. Find the nearest dentist to your house.\n",
    "#    Hint: Use Google Maps to find your latitude and Google Places to find the\n",
    "#    dentist. You will also need the rankby property.\n",
    "\n",
    "# Google geocode to find lat, lng\n",
    "\n",
    "# Use lat, lng to use places API to find nearest dentist\n",
    "\n",
    "# Run request\n",
    "\n",
    "# Print the name and address of the first dentist that appears\n",
    "\n"
   ]
  }
 ],
 "metadata": {
  "kernelspec": {
   "display_name": "Python 3 (ipykernel)",
   "language": "python",
   "name": "python3"
  },
  "language_info": {
   "codemirror_mode": {
    "name": "ipython",
    "version": 3
   },
   "file_extension": ".py",
   "mimetype": "text/x-python",
   "name": "python",
   "nbconvert_exporter": "python",
   "pygments_lexer": "ipython3",
   "version": "3.7.13"
  }
 },
 "nbformat": 4,
 "nbformat_minor": 2
}
