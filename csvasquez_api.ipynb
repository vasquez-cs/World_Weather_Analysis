{
 "cells": [
  {
   "cell_type": "code",
   "execution_count": null,
   "id": "16871a01",
   "metadata": {},
   "outputs": [],
   "source": [
    "api_key = \"tHIpvmgmSl2RQs2yWNkRPAidb1EkPPAs\""
   ]
  }
 ],
 "metadata": {
  "kernelspec": {
   "display_name": "PythonData",
   "language": "python",
   "name": "pythondata"
  },
  "language_info": {
   "codemirror_mode": {
    "name": "ipython",
    "version": 3
   },
   "file_extension": ".py",
   "mimetype": "text/x-python",
   "name": "python",
   "nbconvert_exporter": "python",
   "pygments_lexer": "ipython3",
   "version": "3.7.13"
  }
 },
 "nbformat": 4,
 "nbformat_minor": 5
}
