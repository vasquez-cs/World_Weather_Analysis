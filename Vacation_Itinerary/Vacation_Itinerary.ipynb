{
 "cells": [
  {
   "cell_type": "markdown",
   "metadata": {},
   "source": [
    "## Deliverable 3. Create a Travel Itinerary Map."
   ]
  },
  {
   "cell_type": "code",
   "execution_count": 1,
   "metadata": {},
   "outputs": [],
   "source": [
    "# Dependencies and Setup\n",
    "import pandas as pd\n",
    "import requests\n",
    "import gmaps\n",
    "import gmaps.datasets\n",
    "import matplotlib.pyplot as plt\n",
    "import numpy as np\n",
    "import os\n",
    "\n",
    "# Import API key\n",
    "from config import g_key\n",
    "\n",
    "# Configure gmaps\n",
    "gmaps.configure(api_key=g_key)"
   ]
  },
  {
   "cell_type": "code",
   "execution_count": 2,
   "metadata": {},
   "outputs": [
    {
     "data": {
      "text/html": [
       "<div>\n",
       "<style scoped>\n",
       "    .dataframe tbody tr th:only-of-type {\n",
       "        vertical-align: middle;\n",
       "    }\n",
       "\n",
       "    .dataframe tbody tr th {\n",
       "        vertical-align: top;\n",
       "    }\n",
       "\n",
       "    .dataframe thead th {\n",
       "        text-align: right;\n",
       "    }\n",
       "</style>\n",
       "<table border=\"1\" class=\"dataframe\">\n",
       "  <thead>\n",
       "    <tr style=\"text-align: right;\">\n",
       "      <th></th>\n",
       "      <th>City_ID</th>\n",
       "      <th>City</th>\n",
       "      <th>Country</th>\n",
       "      <th>Max Temp</th>\n",
       "      <th>Current Description</th>\n",
       "      <th>Lat</th>\n",
       "      <th>Lng</th>\n",
       "      <th>Hotel Name</th>\n",
       "    </tr>\n",
       "  </thead>\n",
       "  <tbody>\n",
       "    <tr>\n",
       "      <th>0</th>\n",
       "      <td>1</td>\n",
       "      <td>Tommot</td>\n",
       "      <td>RU</td>\n",
       "      <td>78.12</td>\n",
       "      <td>light rain</td>\n",
       "      <td>58.9564</td>\n",
       "      <td>126.2925</td>\n",
       "      <td>Gostinitsa Tommot</td>\n",
       "    </tr>\n",
       "    <tr>\n",
       "      <th>1</th>\n",
       "      <td>3</td>\n",
       "      <td>Ixtapa</td>\n",
       "      <td>MX</td>\n",
       "      <td>78.53</td>\n",
       "      <td>broken clouds</td>\n",
       "      <td>20.7000</td>\n",
       "      <td>-105.2000</td>\n",
       "      <td>hotel la terminal</td>\n",
       "    </tr>\n",
       "    <tr>\n",
       "      <th>2</th>\n",
       "      <td>6</td>\n",
       "      <td>Sao Felix Do Xingu</td>\n",
       "      <td>BR</td>\n",
       "      <td>74.17</td>\n",
       "      <td>overcast clouds</td>\n",
       "      <td>-6.6447</td>\n",
       "      <td>-51.9950</td>\n",
       "      <td>Rio Xingu Camping</td>\n",
       "    </tr>\n",
       "    <tr>\n",
       "      <th>3</th>\n",
       "      <td>7</td>\n",
       "      <td>Ust-Nera</td>\n",
       "      <td>RU</td>\n",
       "      <td>71.33</td>\n",
       "      <td>overcast clouds</td>\n",
       "      <td>64.5667</td>\n",
       "      <td>143.2000</td>\n",
       "      <td>Hotel Ust-Nera</td>\n",
       "    </tr>\n",
       "    <tr>\n",
       "      <th>4</th>\n",
       "      <td>9</td>\n",
       "      <td>Ca Mau</td>\n",
       "      <td>VN</td>\n",
       "      <td>80.82</td>\n",
       "      <td>overcast clouds</td>\n",
       "      <td>9.1769</td>\n",
       "      <td>105.1500</td>\n",
       "      <td>Mường Thanh Luxury Cà Mau Hotel</td>\n",
       "    </tr>\n",
       "  </tbody>\n",
       "</table>\n",
       "</div>"
      ],
      "text/plain": [
       "   City_ID                City Country  Max Temp Current Description      Lat  \\\n",
       "0        1              Tommot      RU     78.12          light rain  58.9564   \n",
       "1        3              Ixtapa      MX     78.53       broken clouds  20.7000   \n",
       "2        6  Sao Felix Do Xingu      BR     74.17     overcast clouds  -6.6447   \n",
       "3        7            Ust-Nera      RU     71.33     overcast clouds  64.5667   \n",
       "4        9              Ca Mau      VN     80.82     overcast clouds   9.1769   \n",
       "\n",
       "        Lng                       Hotel Name  \n",
       "0  126.2925                Gostinitsa Tommot  \n",
       "1 -105.2000                hotel la terminal  \n",
       "2  -51.9950                Rio Xingu Camping  \n",
       "3  143.2000                   Hotel Ust-Nera  \n",
       "4  105.1500  Mường Thanh Luxury Cà Mau Hotel  "
      ]
     },
     "execution_count": 2,
     "metadata": {},
     "output_type": "execute_result"
    }
   ],
   "source": [
    "# 1. Read the WeatherPy_vacation.csv into a DataFrame.\n",
    "vacation_df = pd.read_csv(\"C://Users/Carlos/BootCamp/World_Weather_Analysis/Vacation_Search/WeatherPy_vacation.csv\")\n",
    "vacation_df.head()"
   ]
  },
  {
   "cell_type": "code",
   "execution_count": 5,
   "metadata": {},
   "outputs": [],
   "source": [
    "# 2. Using the template add the city name, the country code, the weather description and maximum temperature for the city.\n",
    "info_box_template = \"\"\"\n",
    "<dl>\n",
    "<dt>City</dt><dd>{City}</dd>\n",
    "<dt>Country</dt><dd>{Country}</dd>\n",
    "<dt>Current Weather</dt><dd>{Current Description}</dd> and <dd>{Max Temp} °F</dd>\n",
    "</dl>\n",
    "\"\"\"\n",
    "\n",
    "# 3a. Get the data from each row and add it to the formatting template and store the data in a list.\n",
    "hotel_info = [info_box_template.format(**row) for index, row in vacation_df.iterrows()]\n",
    "\n",
    "# 3b. Get the latitude and longitude from each row and store in a new DataFrame.\n",
    "locations = vacation_df[[\"Lat\", \"Lng\"]]"
   ]
  },
  {
   "cell_type": "code",
   "execution_count": 6,
   "metadata": {},
   "outputs": [
    {
     "data": {
      "application/vnd.jupyter.widget-view+json": {
       "model_id": "395e221f96284906a56882e88228e0b5",
       "version_major": 2,
       "version_minor": 0
      },
      "text/plain": [
       "Figure(layout=FigureLayout(height='420px'))"
      ]
     },
     "metadata": {},
     "output_type": "display_data"
    }
   ],
   "source": [
    "# 4a. Add a marker layer for each city to the map.\n",
    "locations = vacation_df[[\"Lat\", \"Lng\"]]\n",
    "max_temp = vacation_df[\"Max Temp\"]\n",
    "fig = gmaps.figure(center=(30.0, 31.0), zoom_level=1.5)\n",
    "marker_layer = gmaps.marker_layer(locations, info_box_content=hotel_info)\n",
    "fig.add_layer(marker_layer)\n",
    "# 4b. Display the figure\n",
    "\n",
    "fig"
   ]
  },
  {
   "cell_type": "code",
   "execution_count": 33,
   "metadata": {},
   "outputs": [],
   "source": [
    "# From the map above pick 4 cities and create a vacation itinerary route to travel between the four cities. \n",
    "# 5. Create DataFrames for each city by filtering the 'vacation_df' using the loc method. \n",
    "# Hint: The starting and ending city should be the same city.\n",
    "\n",
    "\n",
    "\n",
    "vacation_start = vacation_df.loc[vacation_df['City'] == \"San Pedro De Macoris\"]\n",
    "vacation_end = vacation_df.loc[vacation_df['City'] == \"San Pedro De Macoris\"]\n",
    "vacation_stop1 = vacation_df.loc[vacation_df['City'] == \"Quisqueya\"]\n",
    "vacation_stop2 = vacation_df.loc[vacation_df['City'] == \"Samana\"]\n",
    "vacation_stop3 = vacation_df.loc[vacation_df['City'] == \"Santo Domingo\"]"
   ]
  },
  {
   "cell_type": "code",
   "execution_count": 44,
   "metadata": {},
   "outputs": [
    {
     "name": "stdout",
     "output_type": "stream",
     "text": [
      "(18.4616, -69.2972)\n",
      "(18.4616, -69.2972)\n",
      "(18.5554, -69.4081)\n",
      "(19.2056, -69.3369)\n",
      "(18.5001, -69.9886)\n"
     ]
    }
   ],
   "source": [
    "# 6. Get the latitude-longitude pairs as tuples from each city DataFrame using the to_numpy function and list indexing.\n",
    "\n",
    "#https://stackoverflow.com/questions/31789160/convert-select-columns-in-pandas-dataframe-to-numpy-array\n",
    "start = tuple(vacation_start[[\"Lat\", \"Lng\"]].to_numpy()[0])\n",
    "print(start)\n",
    "\n",
    "end = tuple(vacation_end[[\"Lat\", \"Lng\"]].to_numpy()[0])\n",
    "print(end)\n",
    "\n",
    "stop1 = tuple(vacation_stop1[[\"Lat\", \"Lng\"]].to_numpy()[0])\n",
    "print(stop1)\n",
    "\n",
    "stop2 = tuple(vacation_stop2[[\"Lat\", \"Lng\"]].to_numpy()[0])\n",
    "print(stop2)\n",
    "\n",
    "stop3 = tuple(vacation_stop3[[\"Lat\", \"Lng\"]].to_numpy()[0])\n",
    "print(stop3)\n"
   ]
  },
  {
   "cell_type": "code",
   "execution_count": null,
   "metadata": {},
   "outputs": [],
   "source": []
  },
  {
   "cell_type": "code",
   "execution_count": 45,
   "metadata": {
    "scrolled": false
   },
   "outputs": [
    {
     "data": {
      "application/vnd.jupyter.widget-view+json": {
       "model_id": "b63b67e06e38420fb378311ad22c6848",
       "version_major": 2,
       "version_minor": 0
      },
      "text/plain": [
       "Figure(layout=FigureLayout(height='420px'))"
      ]
     },
     "metadata": {},
     "output_type": "display_data"
    }
   ],
   "source": [
    "# 7. Create a direction layer map using the start and end latitude-longitude pairs,\n",
    "# and stop1, stop2, and stop3 as the waypoints. The travel_mode should be \"DRIVING\", \"BICYCLING\", or \"WALKING\".\n",
    "\n",
    "# Latitude-longitude pairs preciously created, so i just listed them agian below\n",
    "\n",
    "start\n",
    "end\n",
    "stop1\n",
    "stop2\n",
    "stop3\n",
    "\n",
    "# Recodifed the example on the google documentation sheet.\n",
    "\n",
    "fig = gmaps.figure()\n",
    "start2end_via_stop1_stop2_stop3 = gmaps.directions_layer(\n",
    "        start, end, waypoints=[stop1, stop2, stop3],\n",
    "        travel_mode='DRIVING')\n",
    "fig.add_layer(start2end_via_stop1_stop2_stop3)\n",
    "fig"
   ]
  },
  {
   "cell_type": "code",
   "execution_count": 51,
   "metadata": {
    "scrolled": true
   },
   "outputs": [
    {
     "data": {
      "text/html": [
       "<div>\n",
       "<style scoped>\n",
       "    .dataframe tbody tr th:only-of-type {\n",
       "        vertical-align: middle;\n",
       "    }\n",
       "\n",
       "    .dataframe tbody tr th {\n",
       "        vertical-align: top;\n",
       "    }\n",
       "\n",
       "    .dataframe thead th {\n",
       "        text-align: right;\n",
       "    }\n",
       "</style>\n",
       "<table border=\"1\" class=\"dataframe\">\n",
       "  <thead>\n",
       "    <tr style=\"text-align: right;\">\n",
       "      <th></th>\n",
       "      <th>City_ID</th>\n",
       "      <th>City</th>\n",
       "      <th>Country</th>\n",
       "      <th>Max Temp</th>\n",
       "      <th>Current Description</th>\n",
       "      <th>Lat</th>\n",
       "      <th>Lng</th>\n",
       "      <th>Hotel Name</th>\n",
       "    </tr>\n",
       "  </thead>\n",
       "  <tbody>\n",
       "    <tr>\n",
       "      <th>0</th>\n",
       "      <td>561</td>\n",
       "      <td>San Pedro De Macoris</td>\n",
       "      <td>DO</td>\n",
       "      <td>77.40</td>\n",
       "      <td>clear sky</td>\n",
       "      <td>18.4616</td>\n",
       "      <td>-69.2972</td>\n",
       "      <td>Apartahotel Guaraguao</td>\n",
       "    </tr>\n",
       "    <tr>\n",
       "      <th>1</th>\n",
       "      <td>675</td>\n",
       "      <td>Quisqueya</td>\n",
       "      <td>DO</td>\n",
       "      <td>75.00</td>\n",
       "      <td>clear sky</td>\n",
       "      <td>18.5554</td>\n",
       "      <td>-69.4081</td>\n",
       "      <td>Pensión doña rosa</td>\n",
       "    </tr>\n",
       "    <tr>\n",
       "      <th>2</th>\n",
       "      <td>645</td>\n",
       "      <td>Samana</td>\n",
       "      <td>DO</td>\n",
       "      <td>78.78</td>\n",
       "      <td>few clouds</td>\n",
       "      <td>19.2056</td>\n",
       "      <td>-69.3369</td>\n",
       "      <td>The Bannister - Hotel &amp; Yacht Club</td>\n",
       "    </tr>\n",
       "    <tr>\n",
       "      <th>3</th>\n",
       "      <td>261</td>\n",
       "      <td>Santo Domingo</td>\n",
       "      <td>DO</td>\n",
       "      <td>74.66</td>\n",
       "      <td>scattered clouds</td>\n",
       "      <td>18.5001</td>\n",
       "      <td>-69.9886</td>\n",
       "      <td>Cabañas City Heart</td>\n",
       "    </tr>\n",
       "  </tbody>\n",
       "</table>\n",
       "</div>"
      ],
      "text/plain": [
       "   City_ID                  City Country  Max Temp Current Description  \\\n",
       "0      561  San Pedro De Macoris      DO     77.40           clear sky   \n",
       "1      675             Quisqueya      DO     75.00           clear sky   \n",
       "2      645                Samana      DO     78.78          few clouds   \n",
       "3      261         Santo Domingo      DO     74.66    scattered clouds   \n",
       "\n",
       "       Lat      Lng                          Hotel Name  \n",
       "0  18.4616 -69.2972               Apartahotel Guaraguao  \n",
       "1  18.5554 -69.4081                   Pensión doña rosa  \n",
       "2  19.2056 -69.3369  The Bannister - Hotel & Yacht Club  \n",
       "3  18.5001 -69.9886                  Cabañas City Heart  "
      ]
     },
     "execution_count": 51,
     "metadata": {},
     "output_type": "execute_result"
    }
   ],
   "source": [
    "# 8. To create a marker layer map between the four cities.\n",
    "#  Combine the four city DataFrames into one DataFrame using the concat() function.\n",
    "\n",
    "\n",
    "itinerary_df = pd.concat([vacation_start, vacation_stop1, vacation_stop2, vacation_stop3],ignore_index=True)\n",
    "itinerary_df"
   ]
  },
  {
   "cell_type": "code",
   "execution_count": 52,
   "metadata": {},
   "outputs": [],
   "source": [
    "# 9 Using the template add city name, the country code, the weather description and maximum temperature for the city. \n",
    "info_box_template = \"\"\"\n",
    "<dl>\n",
    "<dt>City</dt><dd>{City}</dd>\n",
    "<dt>Country</dt><dd>{Country}</dd>\n",
    "<dt>Current Weather</dt><dd>{Current Description}</dd> and <dd>{Max Temp} °F</dd>\n",
    "</dl>\n",
    "\"\"\"\n",
    "\n",
    "# 10a Get the data from each row and add it to the formatting template and store the data in a list.\n",
    "hotel_info = [info_box_template.format(**row) for index, row in itinerary_df.iterrows()]\n",
    "\n",
    "# 10b. Get the latitude and longitude from each row and store in a new DataFrame.\n",
    "locations = itinerary_df[[\"Lat\", \"Lng\"]]"
   ]
  },
  {
   "cell_type": "code",
   "execution_count": 53,
   "metadata": {
    "scrolled": false
   },
   "outputs": [
    {
     "data": {
      "application/vnd.jupyter.widget-view+json": {
       "model_id": "db377eb4979845d58001b6bac438a8ae",
       "version_major": 2,
       "version_minor": 0
      },
      "text/plain": [
       "Figure(layout=FigureLayout(height='420px'))"
      ]
     },
     "metadata": {},
     "output_type": "display_data"
    }
   ],
   "source": [
    "# 11a. Add a marker layer for each city to the map.\n",
    "\n",
    "locations = itinerary_df[[\"Lat\", \"Lng\"]]\n",
    "max_temp = itinerary_df[\"Max Temp\"]\n",
    "fig = gmaps.figure(center=(30.0, 31.0), zoom_level=1.5)\n",
    "marker_layer = gmaps.marker_layer(locations, info_box_content=hotel_info)\n",
    "fig.add_layer(marker_layer)\n",
    "\n",
    "# 11b. Display the figure\n",
    "fig"
   ]
  }
 ],
 "metadata": {
  "kernelspec": {
   "display_name": "PythonData",
   "language": "python",
   "name": "pythondata"
  },
  "language_info": {
   "codemirror_mode": {
    "name": "ipython",
    "version": 3
   },
   "file_extension": ".py",
   "mimetype": "text/x-python",
   "name": "python",
   "nbconvert_exporter": "python",
   "pygments_lexer": "ipython3",
   "version": "3.7.13"
  },
  "latex_envs": {
   "LaTeX_envs_menu_present": true,
   "autoclose": false,
   "autocomplete": true,
   "bibliofile": "biblio.bib",
   "cite_by": "apalike",
   "current_citInitial": 1,
   "eqLabelWithNumbers": true,
   "eqNumInitial": 1,
   "hotkeys": {
    "equation": "Ctrl-E",
    "itemize": "Ctrl-I"
   },
   "labels_anchors": false,
   "latex_user_defs": false,
   "report_style_numbering": false,
   "user_envs_cfg": false
  }
 },
 "nbformat": 4,
 "nbformat_minor": 2
}
